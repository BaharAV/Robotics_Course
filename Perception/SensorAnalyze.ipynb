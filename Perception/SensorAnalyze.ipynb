{
  "nbformat": 4,
  "nbformat_minor": 0,
  "metadata": {
    "colab": {
      "name": "robotics-hw2-q3.ipynb",
      "provenance": [],
      "collapsed_sections": []
    },
    "kernelspec": {
      "name": "python3",
      "display_name": "Python 3"
    },
    "language_info": {
      "name": "python"
    }
  },
  "cells": [
    {
      "cell_type": "code",
      "metadata": {
        "id": "QswkKbe9c3SB"
      },
      "source": [
        "# the file shoul be uploaded here\n",
        "data = []\n",
        "f = open(\"Hw_Accel_Voltage_Data.txt\", \"r\")\n",
        "for x in f:\n",
        "  data.append(float(x.rstrip(\"\\n\")))\n",
        "\n",
        "# data"
      ],
      "execution_count": null,
      "outputs": []
    },
    {
      "cell_type": "code",
      "metadata": {
        "id": "bnMvn1WBj3ZX"
      },
      "source": [
        "# vref = (5.5+4.9)/2 #between 4.9 to 5.5\n",
        "# n = 10 \n",
        "# nn = 2**n - 1 \n",
        "vzerog = 2.375\n",
        "sensitivity = 500*(10**-3)"
      ],
      "execution_count": null,
      "outputs": []
    },
    {
      "cell_type": "code",
      "metadata": {
        "id": "DIzwn342e3uW"
      },
      "source": [
        "Rx = []\n",
        "for i in range(len(data)):\n",
        "  Rx.append(((data[i]-vzerog)/sensitivity)*9.8)\n",
        "  # Rx.append((((data[i]*(vref/nn))-vzerog)/sensitivity)*9.8)\n",
        "\n",
        "# Rx"
      ],
      "execution_count": null,
      "outputs": []
    },
    {
      "cell_type": "code",
      "metadata": {
        "id": "Nshiv7eXlus3"
      },
      "source": [
        "# v = at + v0\n",
        "# x = 1/2*a*t^2 + v0t + x0\n",
        "t = 30/3000\n",
        "TIME = []\n",
        "TIME.append(0.01)\n",
        "V = []\n",
        "V.append(Rx[0]*t + 0)\n",
        "X = []\n",
        "X.append(Rx[0]*(t**2) + 0*t + 0)\n",
        "Y = []\n",
        "Y.append(0)\n",
        "for i in range(1,len(Rx)):\n",
        "  TIME.append(TIME[i-1] + t)\n",
        "  V.append(Rx[i]*t + V[i-1])\n",
        "  X.append(Rx[i]*(t**2) + V[i-1]*t + X[i-1])\n",
        "  Y.append(0)"
      ],
      "execution_count": null,
      "outputs": []
    },
    {
      "cell_type": "code",
      "metadata": {
        "id": "iWZinkF4nHiB",
        "colab": {
          "base_uri": "https://localhost:8080/"
        },
        "outputId": "8c84d3e5-d784-4dbd-d173-608749644c49"
      },
      "source": [
        "X[len(X)-1]"
      ],
      "execution_count": null,
      "outputs": [
        {
          "output_type": "execute_result",
          "data": {
            "text/plain": [
              "240.67020945312592"
            ]
          },
          "metadata": {
            "tags": []
          },
          "execution_count": 17
        }
      ]
    },
    {
      "cell_type": "code",
      "metadata": {
        "colab": {
          "base_uri": "https://localhost:8080/",
          "height": 1000
        },
        "id": "Jrab6S79KK7g",
        "outputId": "e9c5830e-7e3d-4a0e-b7b1-7b73dfde2d1d"
      },
      "source": [
        "import matplotlib.pyplot as plt\n",
        "\n",
        "plt.scatter(TIME, Rx)\n",
        "plt.title('acceleration - time')\n",
        "plt.show()\n",
        "plt.scatter(TIME, V)\n",
        "plt.title('speed - time')\n",
        "plt.show()\n",
        "plt.scatter(TIME, X)\n",
        "plt.title('position on x - time')\n",
        "plt.show()\n",
        "plt.scatter(X, Y)\n",
        "plt.title('position')\n",
        "plt.show()"
      ],
      "execution_count": null,
      "outputs": [
        {
          "output_type": "display_data",
          "data": {
            "image/png": "[encoded data removed]",
            "text/plain": [
              "<Figure size 432x288 with 1 Axes>"
            ]
          },
          "metadata": {
            "tags": [],
            "needs_background": "light"
          }
        },
        {
          "output_type": "display_data",
          "data": {
            "image/png": "[encoded data removed]",
            "text/plain": [
              "<Figure size 432x288 with 1 Axes>"
            ]
          },
          "metadata": {
            "tags": [],
            "needs_background": "light"
          }
        },
        {
          "output_type": "display_data",
          "data": {
            "image/png": "[encoded data removed]",
            "text/plain": [
              "<Figure size 432x288 with 1 Axes>"
            ]
          },
          "metadata": {
            "tags": [],
            "needs_background": "light"
          }
        },
        {
          "output_type": "display_data",
          "data": {
            "image/png": "[encoded data removed]",
            "text/plain": [
              "<Figure size 432x288 with 1 Axes>"
            ]
          },
          "metadata": {
            "tags": [],
            "needs_background": "light"
          }
        }
      ]
    },
    {
      "cell_type": "code",
      "metadata": {
        "id": "g2QElBRNLmXH"
      },
      "source": [
        ""
      ],
      "execution_count": null,
      "outputs": []
    }
  ]
}