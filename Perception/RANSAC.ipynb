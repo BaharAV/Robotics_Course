{
  "nbformat": 4,
  "nbformat_minor": 0,
  "metadata": {
    "colab": {
      "name": "robotics-hw2-q1.ipynb",
      "provenance": [],
      "collapsed_sections": []
    },
    "kernelspec": {
      "name": "python3",
      "display_name": "Python 3"
    },
    "language_info": {
      "name": "python"
    }
  },
  "cells": [
    {
      "cell_type": "markdown",
      "metadata": {
        "id": "llriyjxruTRh"
      },
      "source": [
        "**pseudo-invers**"
      ]
    },
    {
      "cell_type": "code",
      "metadata": {
        "id": "Y7CaUD-3bjfw"
      },
      "source": [
        "import numpy as np\n",
        "import math"
      ],
      "execution_count": null,
      "outputs": []
    },
    {
      "cell_type": "code",
      "metadata": {
        "id": "pvlYt5gwaYcl"
      },
      "source": [
        "distances = [0.5197,0.4404,0.4850,0.4222,0.4132,0.4371,0.3912,0.3949,1.3910,0.4276,0.4075,0.3956,2.4053,0.4752,0.5032,0.5273,0.4879]\n",
        "degrees = [0,5,10,15,20,25,30,35,40,45,50,55,60,65,70,75,80]"
      ],
      "execution_count": null,
      "outputs": []
    },
    {
      "cell_type": "code",
      "metadata": {
        "id": "ypBd9qATcl_2"
      },
      "source": [
        "import matplotlib.pyplot as plt"
      ],
      "execution_count": null,
      "outputs": []
    },
    {
      "cell_type": "code",
      "metadata": {
        "colab": {
          "base_uri": "https://localhost:8080/",
          "height": 283
        },
        "id": "AdT1EdjYaplm",
        "outputId": "90fd3390-cfdf-48a2-9c6a-e6acde139ee2"
      },
      "source": [
        "points_x = []\n",
        "points_y = []\n",
        "for i in range(len(distances)):\n",
        "  points_x.append(distances[i]*math.cos(degrees[i]*math.pi/180))\n",
        "  points_y.append(distances[i]*math.sin(degrees[i]*math.pi/180))\n",
        "\n",
        "plt.scatter(points_x, points_y)"
      ],
      "execution_count": null,
      "outputs": [
        {
          "output_type": "execute_result",
          "data": {
            "text/plain": [
              "<matplotlib.collections.PathCollection at 0x7fee53084c10>"
            ]
          },
          "metadata": {
            "tags": []
          },
          "execution_count": 53
        },
        {
          "output_type": "display_data",
          "data": {
            "image/png": "[encoded data removed]",
            "text/plain": [
              "<Figure size 432x288 with 1 Axes>"
            ]
          },
          "metadata": {
            "tags": [],
            "needs_background": "light"
          }
        }
      ]
    },
    {
      "cell_type": "code",
      "metadata": {
        "id": "gmJuk1YefmuB"
      },
      "source": [
        "matrix = [ [0]*2 for i in range(len(points_x))]\n",
        "for i in range(len(points_x)):\n",
        "  matrix[i][0]=points_x[i]\n",
        "  matrix[i][1]=points_y[i]\n",
        "\n",
        "# matrix"
      ],
      "execution_count": null,
      "outputs": []
    },
    {
      "cell_type": "code",
      "metadata": {
        "id": "lXQkPNl_in_N"
      },
      "source": [
        "matrix_t = np.array(matrix).transpose()\n",
        "\n",
        "# matrix_t"
      ],
      "execution_count": null,
      "outputs": []
    },
    {
      "cell_type": "code",
      "metadata": {
        "id": "mVMee5cgcHG_"
      },
      "source": [
        "c = [ [1]*1 for i in range(len(points_x))]\n",
        "\n",
        "# c"
      ],
      "execution_count": null,
      "outputs": []
    },
    {
      "cell_type": "code",
      "metadata": {
        "id": "01ohaIEGiVU5"
      },
      "source": [
        "p = np.dot(matrix_t,matrix)\n",
        "p = np.linalg.inv(p)\n",
        "p = np.dot(p,matrix_t)\n",
        "p = np.dot(p,c)"
      ],
      "execution_count": null,
      "outputs": []
    },
    {
      "cell_type": "code",
      "metadata": {
        "colab": {
          "base_uri": "https://localhost:8080/"
        },
        "id": "l2D8zCukpBVx",
        "outputId": "39a2fc8f-a655-4900-d14e-e2f65bd50bf1"
      },
      "source": [
        "p"
      ],
      "execution_count": null,
      "outputs": [
        {
          "output_type": "execute_result",
          "data": {
            "text/plain": [
              "array([[ 1.76467642],\n",
              "       [-0.13710987]])"
            ]
          },
          "metadata": {
            "tags": []
          },
          "execution_count": 58
        }
      ]
    },
    {
      "cell_type": "code",
      "metadata": {
        "id": "-HheOTHOY6al"
      },
      "source": [
        "# ax + by = 1 --> y = -a/b*x + 1/b\n",
        "p[0]=(-1*p[0])/p[1]\n",
        "p[1]=1/p[1]"
      ],
      "execution_count": null,
      "outputs": []
    },
    {
      "cell_type": "code",
      "metadata": {
        "id": "O9sNcwNyqXPP"
      },
      "source": [
        "dots_x = []\n",
        "dots_y = []\n",
        "dots_x.append(min(points_x))\n",
        "dots_x.append(max(points_x))\n",
        "dots_y.append(p[0]*min(points_x)+p[1])\n",
        "dots_y.append(p[0]*max(points_x)+p[1])"
      ],
      "execution_count": null,
      "outputs": []
    },
    {
      "cell_type": "code",
      "metadata": {
        "colab": {
          "base_uri": "https://localhost:8080/",
          "height": 283
        },
        "id": "7tK0DhHls0W1",
        "outputId": "1a73d9e3-62b8-4d1e-f748-7badca25cf49"
      },
      "source": [
        "plt.scatter(points_x, points_y)\n",
        "plt.plot(dots_x,dots_y)"
      ],
      "execution_count": null,
      "outputs": [
        {
          "output_type": "execute_result",
          "data": {
            "text/plain": [
              "[<matplotlib.lines.Line2D at 0x7fee5306af50>]"
            ]
          },
          "metadata": {
            "tags": []
          },
          "execution_count": 61
        },
        {
          "output_type": "display_data",
          "data": {
            "image/png": "[encoded data removed]",
            "text/plain": [
              "<Figure size 432x288 with 1 Axes>"
            ]
          },
          "metadata": {
            "tags": [],
            "needs_background": "light"
          }
        }
      ]
    },
    {
      "cell_type": "code",
      "metadata": {
        "id": "PZKPNITws_Bt"
      },
      "source": [
        "# # with library\n",
        "# xx = np.linalg.pinv(matrix)\n",
        "# xx = np.dot(xx,c)\n",
        "\n",
        "# # ax + by = 1 --> y = -a/b*x + 1/b\n",
        "# xx[0]=(-1*xx[0])/xx[1]\n",
        "# xx[1]=1/xx[1]\n",
        "\n",
        "# dots_x_prime = []\n",
        "# dots_y_prime = []\n",
        "# dots_x_prime.append(min(points_x))\n",
        "# dots_x_prime.append(max(points_x))\n",
        "# dots_y_prime.append(xx[0]*min(points_x)+xx[1])\n",
        "# dots_y_prime.append(xx[0]*max(points_x)+xx[1])\n",
        "\n",
        "# plt.scatter(points_x, points_y)\n",
        "# plt.plot(dots_x_prime,dots_y_prime)\n"
      ],
      "execution_count": null,
      "outputs": []
    },
    {
      "cell_type": "markdown",
      "metadata": {
        "id": "EuWygGyruYNB"
      },
      "source": [
        "**RANSAC**"
      ]
    },
    {
      "cell_type": "code",
      "metadata": {
        "colab": {
          "base_uri": "https://localhost:8080/",
          "height": 283
        },
        "id": "lqCpdq1zt20F",
        "outputId": "99a27a6c-36a5-4d08-a793-1f1e39736201"
      },
      "source": [
        "plt.scatter(points_x, points_y)"
      ],
      "execution_count": null,
      "outputs": [
        {
          "output_type": "execute_result",
          "data": {
            "text/plain": [
              "<matplotlib.collections.PathCollection at 0x7fee534e6b10>"
            ]
          },
          "metadata": {
            "tags": []
          },
          "execution_count": 63
        },
        {
          "output_type": "display_data",
          "data": {
            "image/png": "[encoded data removed]",
            "text/plain": [
              "<Figure size 432x288 with 1 Axes>"
            ]
          },
          "metadata": {
            "tags": [],
            "needs_background": "light"
          }
        }
      ]
    },
    {
      "cell_type": "code",
      "metadata": {
        "id": "RxNfREPPu3be"
      },
      "source": [
        "def find_line_model(x1,y1,x2,y2):\n",
        "    if (x2-x1==0):\n",
        "      return math.inf,math.inf\n",
        "    m = (y2-y1) / (x2-x1) \n",
        "    c = y1 - m * x1     \n",
        "    return m, c"
      ],
      "execution_count": null,
      "outputs": []
    },
    {
      "cell_type": "code",
      "metadata": {
        "id": "wUX1QR17vjPR"
      },
      "source": [
        "def find_intercept_point(m, c, x0, y0):\n",
        "    x = (x0 + m*y0 - m*c)/(1 + m**2)\n",
        "    y = (m*x0 + (m**2)*y0 - (m**2)*c)/(1 + m**2) + c\n",
        "    return x, y"
      ],
      "execution_count": null,
      "outputs": []
    },
    {
      "cell_type": "code",
      "metadata": {
        "id": "ZX-4IV1swZ2E"
      },
      "source": [
        "first_point = []\n",
        "for i in range(len(points_x)):\n",
        "  first_point.append((points_x[i],points_y[i]))\n",
        "\n",
        "# first_point"
      ],
      "execution_count": null,
      "outputs": []
    },
    {
      "cell_type": "code",
      "metadata": {
        "id": "bdB1oBvDxJ8U",
        "colab": {
          "base_uri": "https://localhost:8080/"
        },
        "outputId": "dd3ea05b-d187-4ee4-efae-343e9caf6889"
      },
      "source": [
        "trsh = 0.1\n",
        "number_save = 0\n",
        "dots = [0,0,0,0]\n",
        "\n",
        "for i in range(len(first_point)):\n",
        "  for j in range(1,len(first_point)):\n",
        "    m,c = find_line_model(first_point[i][0],first_point[i][1],first_point[j][0],first_point[j][1])\n",
        "    number = 0\n",
        "    for k in range(len(first_point)):\n",
        "      if ((i!=k) and (j!=k)):\n",
        "        x_new,y_new = find_intercept_point(m,c,first_point[k][0],first_point[k][1])\n",
        "        distance = math.sqrt((first_point[k][0] - x_new)**2 + (first_point[k][1] - y_new)**2)\n",
        "        if distance < trsh:\n",
        "          number += 1\n",
        "    if (number>number_save):\n",
        "      number_save = number \n",
        "      dots = [first_point[i][0],first_point[i][1],first_point[j][0],first_point[j][1]]\n",
        "dots"
      ],
      "execution_count": null,
      "outputs": [
        {
          "output_type": "execute_result",
          "data": {
            "text/plain": [
              "[0.5197, 0.0, 0.40781388385924466, 0.10927340084228426]"
            ]
          },
          "metadata": {
            "tags": []
          },
          "execution_count": 67
        }
      ]
    },
    {
      "cell_type": "code",
      "metadata": {
        "id": "xATI0epW0TWO"
      },
      "source": [
        "m,c = find_line_model(dots[0],dots[1],dots[2],dots[3])"
      ],
      "execution_count": null,
      "outputs": []
    },
    {
      "cell_type": "code",
      "metadata": {
        "id": "jcTa96Yhyasm"
      },
      "source": [
        "dots_x = []\n",
        "dots_y= []\n",
        "dots_x.append(dots[0])\n",
        "dots_x.append(dots[1])\n",
        "dots_y.append(m*dots[0]+c)\n",
        "dots_y.append(m*dots[1]+c)"
      ],
      "execution_count": null,
      "outputs": []
    },
    {
      "cell_type": "code",
      "metadata": {
        "colab": {
          "base_uri": "https://localhost:8080/",
          "height": 283
        },
        "id": "frw_j1d40dWM",
        "outputId": "9cb539a3-aecd-4ae4-ab0e-1ecbf3ef43c9"
      },
      "source": [
        "plt.scatter(points_x, points_y)\n",
        "plt.plot(dots_x,dots_y)"
      ],
      "execution_count": null,
      "outputs": [
        {
          "output_type": "execute_result",
          "data": {
            "text/plain": [
              "[<matplotlib.lines.Line2D at 0x7fee530fcb10>]"
            ]
          },
          "metadata": {
            "tags": []
          },
          "execution_count": 70
        },
        {
          "output_type": "display_data",
          "data": {
            "image/png": "[encoded data removed]",
            "text/plain": [
              "<Figure size 432x288 with 1 Axes>"
            ]
          },
          "metadata": {
            "tags": [],
            "needs_background": "light"
          }
        }
      ]
    },
    {
      "cell_type": "markdown",
      "metadata": {
        "id": "dzcPZrjhJW-n"
      },
      "source": [
        "**using RANSAC to solve the problem of pseudo-invers by removing outliers**"
      ]
    },
    {
      "cell_type": "code",
      "metadata": {
        "id": "HcMtLk1tSXS1"
      },
      "source": [
        "trsh = 1\n",
        "remaining_points_x = []\n",
        "remaining_points_y = []\n",
        "for i in range(len(points_x)):\n",
        "  x_new,y_new = find_intercept_point(m,c,points_x[i],points_y[i])\n",
        "  distance = math.sqrt((points_x[i] - x_new)**2 + (points_y[i] - y_new)**2)\n",
        "  if (distance<trsh):\n",
        "    remaining_points_x.append(points_x[i])\n",
        "    remaining_points_y.append(points_y[i])"
      ],
      "execution_count": null,
      "outputs": []
    },
    {
      "cell_type": "code",
      "metadata": {
        "colab": {
          "base_uri": "https://localhost:8080/",
          "height": 283
        },
        "id": "n6rb-ccqKcyi",
        "outputId": "ad8486d9-6721-4e79-b69b-0ed029d6e467"
      },
      "source": [
        "plt.scatter(remaining_points_x, remaining_points_y)"
      ],
      "execution_count": null,
      "outputs": [
        {
          "output_type": "execute_result",
          "data": {
            "text/plain": [
              "<matplotlib.collections.PathCollection at 0x7fee52f05ad0>"
            ]
          },
          "metadata": {
            "tags": []
          },
          "execution_count": 72
        },
        {
          "output_type": "display_data",
          "data": {
            "image/png": "[encoded data removed]",
            "text/plain": [
              "<Figure size 432x288 with 1 Axes>"
            ]
          },
          "metadata": {
            "tags": [],
            "needs_background": "light"
          }
        }
      ]
    },
    {
      "cell_type": "code",
      "metadata": {
        "id": "GYcqqxuzKdOB"
      },
      "source": [
        "new_matrix = [ [0]*2 for i in range(len(remaining_points_x))]\n",
        "for i in range(len(remaining_points_x)):\n",
        "  new_matrix[i][0]=remaining_points_x[i]\n",
        "  new_matrix[i][1]=remaining_points_y[i]\n",
        "\n",
        "# new_matrix"
      ],
      "execution_count": null,
      "outputs": []
    },
    {
      "cell_type": "code",
      "metadata": {
        "id": "Gk9F8ophKoyn"
      },
      "source": [
        "new_matrix_t = np.array(new_matrix).transpose()\n",
        "\n",
        "# new_matrix_t"
      ],
      "execution_count": null,
      "outputs": []
    },
    {
      "cell_type": "code",
      "metadata": {
        "id": "_VFRy-CYKtMV"
      },
      "source": [
        "new_c = [ [1]*1 for i in range(len(remaining_points_x))]\n",
        "\n",
        "# new_c"
      ],
      "execution_count": null,
      "outputs": []
    },
    {
      "cell_type": "code",
      "metadata": {
        "id": "G4M0UVzgKvw9"
      },
      "source": [
        "new_p = np.dot(new_matrix_t,new_matrix)\n",
        "new_p = np.linalg.inv(new_p)\n",
        "new_p = np.dot(new_p,new_matrix_t)\n",
        "new_p = np.dot(new_p,new_c)"
      ],
      "execution_count": null,
      "outputs": []
    },
    {
      "cell_type": "code",
      "metadata": {
        "colab": {
          "base_uri": "https://localhost:8080/"
        },
        "id": "00ya9B3SKymn",
        "outputId": "70489ff3-10a5-4e0e-df08-914cd4125489"
      },
      "source": [
        "new_p"
      ],
      "execution_count": null,
      "outputs": [
        {
          "output_type": "execute_result",
          "data": {
            "text/plain": [
              "array([[1.96381456],\n",
              "       [1.51483872]])"
            ]
          },
          "metadata": {
            "tags": []
          },
          "execution_count": 77
        }
      ]
    },
    {
      "cell_type": "code",
      "metadata": {
        "id": "qLXglNMxZG3g"
      },
      "source": [
        "# ax + by = 1 --> y = -a/b*x + 1/b\n",
        "new_p[0]=(-1*new_p[0])/new_p[1]\n",
        "new_p[1]=1/new_p[1]"
      ],
      "execution_count": null,
      "outputs": []
    },
    {
      "cell_type": "code",
      "metadata": {
        "id": "8NY6w9K0KzNn"
      },
      "source": [
        "new_dots_x = []\n",
        "new_dots_y = []\n",
        "new_dots_x.append(min(remaining_points_x))\n",
        "new_dots_x.append(max(remaining_points_x))\n",
        "new_dots_y.append(new_p[0]*min(remaining_points_x)+new_p[1])\n",
        "new_dots_y.append(new_p[0]*max(remaining_points_x)+new_p[1])"
      ],
      "execution_count": null,
      "outputs": []
    },
    {
      "cell_type": "code",
      "metadata": {
        "colab": {
          "base_uri": "https://localhost:8080/",
          "height": 283
        },
        "id": "Q6H3PkUAK1pp",
        "outputId": "f18a2049-bd8a-40cf-eff2-2ee4f26077dd"
      },
      "source": [
        "plt.scatter(remaining_points_x, remaining_points_y)\n",
        "plt.plot(new_dots_x,new_dots_y)"
      ],
      "execution_count": null,
      "outputs": [
        {
          "output_type": "execute_result",
          "data": {
            "text/plain": [
              "[<matplotlib.lines.Line2D at 0x7fee52ef6c10>]"
            ]
          },
          "metadata": {
            "tags": []
          },
          "execution_count": 80
        },
        {
          "output_type": "display_data",
          "data": {
            "image/png": "[encoded data removed]",
            "text/plain": [
              "<Figure size 432x288 with 1 Axes>"
            ]
          },
          "metadata": {
            "tags": [],
            "needs_background": "light"
          }
        }
      ]
    },
    {
      "cell_type": "code",
      "metadata": {
        "id": "Dxg920OVLSOf"
      },
      "source": [
        "# # with library\n",
        "# xx = np.linalg.pinv(new_matrix)\n",
        "# xx = np.dot(xx,new_c)\n",
        "\n",
        "# # ax + by = 1 --> y = -a/b*x + 1/b\n",
        "# xx[0]=(-1*xx[0])/xx[1]\n",
        "# xx[1]=1/xx[1]\n",
        "\n",
        "# dots_x_prime = []\n",
        "# dots_y_prime = []\n",
        "# dots_x_prime.append(min(remaining_points_x))\n",
        "# dots_x_prime.append(max(remaining_points_x))\n",
        "# dots_y_prime.append(xx[0]*min(remaining_points_x)+xx[1])\n",
        "# dots_y_prime.append(xx[0]*max(remaining_points_x)+xx[1])\n",
        "\n",
        "# plt.scatter(remaining_points_x, remaining_points_y)\n",
        "# plt.plot(dots_x_prime,dots_y_prime)\n"
      ],
      "execution_count": null,
      "outputs": []
    },
    {
      "cell_type": "code",
      "metadata": {
        "id": "23uXQShXzDqc"
      },
      "source": [
        ""
      ],
      "execution_count": null,
      "outputs": []
    }
  ]
}